{
  "cells": [
    {
      "cell_type": "code",
      "execution_count": 11,
      "metadata": {
        "trusted": true
      },
      "outputs": [],
      "source": [
        "import random "
      ]
    },
    {
      "cell_type": "markdown",
      "metadata": {},
      "source": [
        "This line imports the Python random module, which provides functions for generating random numbers."
      ]
    },
    {
      "cell_type": "code",
      "execution_count": 12,
      "metadata": {
        "trusted": true
      },
      "outputs": [],
      "source": [
        "def distinct_values(n, N): \n",
        "    #This function takes two arguments:\n",
        "    # n (the number of random integers to generate) and N (the upper bound for the random integers, which will be between 1 and N, inclusive)\n",
        "       \n",
        "    distinct_set = set() #This line creates an empty set called distinct_set to store unique integer values.\n",
        "        \n",
        "    for _ in range(n):\n",
        "        random_integer = random.randint(1, N)\n",
        "        #Inside a loop that runs 'n' times, the code generates random integers using random.randint(1, N). These integers are between 1 and N, inclusive\n",
        "        distinct_set.add(random_integer)\n",
        "        #This line adds each random integer to the distinct_set. Since sets only store unique values, this ensures that each distinct value is only stored once in the set.\n",
        "    return len(distinct_set) \n",
        "     #The function returns the length (count) of the distinct_set, which represents the number of distinct values generated in the 'n' random integers."
      ]
    },
    {
      "cell_type": "code",
      "execution_count": 13,
      "metadata": {
        "trusted": true
      },
      "outputs": [],
      "source": [
        "def run_experiment(n, N, num_simulations):\n",
        "#This function takes three arguments:\n",
        "#n (number of random integers to generate in each simulation), N (the upper bound for the random integers), and num_simulations (the number of times to run the experiment)\n",
        "    total_distinct = 0 #This variable will keep track of the sum of distinct values obtained in all simulations\n",
        "    for _ in range(num_simulations):\n",
        "        total_distinct += distinct_values(n, N)\n",
        "        average_distinct = total_distinct / num_simulations\n",
        "    #After running all the simulations, this line calculates the average number of distinct values by dividing the total distinct values obtained across all simulations by the number of simulations\n",
        "    return average_distinct\n",
        "#The function returns the calculated average number of distinct values obtained in the experiments."
      ]
    },
    {
      "cell_type": "code",
      "execution_count": 14,
      "metadata": {
        "trusted": true
      },
      "outputs": [],
      "source": [
        "# Define parameters for the experiment\n",
        "num_simulations = 100  # Number of simulations to get an average\n",
        "\n",
        "# Test various values of n and N\n",
        "n_values = [300000]   #[100, 200, 30000]\n",
        "N_values = [12]    #[50, 100, 150]"
      ]
    },
    {
      "cell_type": "code",
      "execution_count": 15,
      "metadata": {
        "trusted": true
      },
      "outputs": [
        {
          "name": "stdout",
          "output_type": "stream",
          "text": [
            "n=300000, N=12\n",
            "Expected distinct values: 12.0\n",
            "Experimental average distinct values: 12.0\n",
            "\n"
          ]
        }
      ],
      "source": [
        "for n in n_values:\n",
        "    for N in N_values:\n",
        "        expected_distinct = N * (1 - ((N-1)/N)**n)\n",
        "        experimental_distinct = run_experiment(n, N, num_simulations)\n",
        "        print(f\"n={n}, N={N}\")\n",
        "        print(f\"Expected distinct values: {expected_distinct}\")\n",
        "        print(f\"Experimental average distinct values: {experimental_distinct}\\n\") "
      ]
    },
    {
      "cell_type": "markdown",
      "metadata": {},
      "source": [
        " # Here's a breakdown of expected_distinct formula:\n",
        "1.   N is the total number of distinct values (integers between 1 and N)\n",
        "2.  ((N-1)/N)) represents the probability of not getting a particular distinct value in a single draw.\n",
        "3.  ((N-1)/N)**n) represents the probability of not getting a particular distinct value in all n draws \n",
        "4.  (1 - ((N-1)/N)**n) represents the probability of collecting at least one of each distinct value in n draws."
      ]
    },
    {
      "cell_type": "markdown",
      "metadata": {},
      "source": [
        "we generated the change curves of n and distinct values obtained by theoretical calculation and experiment respectively when N takes different values respectively. It can be seen that the two curves basically coincide, which shows the correctness of the formula."
      ]
    },
    {
      "cell_type": "markdown",
      "metadata": {},
      "source": [
        "![Alt text](N=5.png)"
      ]
    },
    {
      "cell_type": "markdown",
      "metadata": {},
      "source": [
        "![Alt text](N=10.png)"
      ]
    },
    {
      "cell_type": "markdown",
      "metadata": {},
      "source": [
        "![Alt text](N=50.png)"
      ]
    },
    {
      "cell_type": "markdown",
      "metadata": {},
      "source": [
        "![Alt text](N=100.png)"
      ]
    },
    {
      "cell_type": "markdown",
      "metadata": {},
      "source": [
        "![Alt text](N=500.png)"
      ]
    }
  ],
  "metadata": {
    "kernelspec": {
      "display_name": "Python 3",
      "language": "python",
      "name": "python3"
    },
    "language_info": {
      "codemirror_mode": {
        "name": "ipython",
        "version": 3
      },
      "file_extension": ".py",
      "mimetype": "text/x-python",
      "name": "python",
      "nbconvert_exporter": "python",
      "pygments_lexer": "ipython3",
      "version": "3.11.5"
    }
  },
  "nbformat": 4,
  "nbformat_minor": 4
}
